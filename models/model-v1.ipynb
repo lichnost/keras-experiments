{
 "cells": [
  {
   "cell_type": "code",
   "execution_count": 7,
   "metadata": {
    "collapsed": true
   },
   "outputs": [
    {
     "name": "stdout",
     "output_type": "stream",
     "text": [
      "_________________________________________________________________\nLayer (type)                 Output Shape              Param #   \n=================================================================\nconv2d_8 (Conv2D)            (None, 30, 30, 5)         50        \n_________________________________________________________________\nconv2d_9 (Conv2D)            (None, 30, 30, 5)         230       \n_________________________________________________________________\nmax_pooling2d_4 (MaxPooling2 (None, 15, 15, 5)         0         \n_________________________________________________________________\ndropout_4 (Dropout)          (None, 15, 15, 5)         0         \n_________________________________________________________________\nconv2d_10 (Conv2D)           (None, 15, 15, 5)         230       \n_________________________________________________________________\nconv2d_11 (Conv2D)           (None, 15, 15, 5)         30        \n_________________________________________________________________\nmax_pooling2d_5 (MaxPooling2 (None, 7, 7, 5)           0         \n_________________________________________________________________\nflatten_4 (Flatten)          (None, 245)               0         \n_________________________________________________________________\ndense_4 (Dense)              (None, 60)                14760     \n=================================================================\nTotal params: 15,300\nTrainable params: 15,300\nNon-trainable params: 0\n_________________________________________________________________\n"
     ]
    }
   ],
   "source": [
    "# Install the plaidml backend\n",
    "import plaidml.keras\n",
    "plaidml.keras.install_backend()\n",
    "\n",
    "from keras.models import Sequential\n",
    "from keras.layers import Dense, Flatten, Convolution2D, MaxPooling2D, Dropout\n",
    "\n",
    "from keras.optimizers import SGD\n",
    "from keras.models import  load_model\n",
    "from os.path import isfile\n",
    "\n",
    "model_file = \"./models/serialized/model-v1.hdf5\"\n",
    "\n",
    "# Model\n",
    "if isfile(model_file):\n",
    "    model = load_model(model_file)\n",
    "else:\n",
    "    model = Sequential()\n",
    "    model.add(Convolution2D(5, (3, 3), activation='relu', input_shape=(30, 30, 1), padding='same'))\n",
    "    model.add(Convolution2D(5, (3, 3), activation='relu', padding=\"same\"))\n",
    "    model.add(MaxPooling2D(pool_size=(2, 2)))\n",
    "    model.add(Dropout(0.25))\n",
    "    model.add(Convolution2D(5, (3, 3), activation='relu', padding=\"same\"))\n",
    "    model.add(Convolution2D(5, (1, 1), activation='relu', padding=\"same\"))\n",
    "    model.add(MaxPooling2D(pool_size=(2, 2)))\n",
    "    model.add(Flatten())\n",
    "    model.add(Dense(60, activation='relu'))\n",
    "    model.compile(optimizer=SGD(lr=0.01), loss='mean_squared_error', metrics=['accuracy'])\n",
    "    model.save(model_file)\n",
    "\n",
    "model.summary()\n",
    "\n"
   ]
  },
  {
   "cell_type": "code",
   "execution_count": null,
   "metadata": {},
   "outputs": [],
   "source": []
  }
 ],
 "metadata": {
  "kernelspec": {
   "display_name": "Python 2",
   "language": "python",
   "name": "python2"
  },
  "language_info": {
   "codemirror_mode": {
    "name": "ipython",
    "version": 2
   },
   "file_extension": ".py",
   "mimetype": "text/x-python",
   "name": "python",
   "nbconvert_exporter": "python",
   "pygments_lexer": "ipython2",
   "version": "2.7.6"
  }
 },
 "nbformat": 4,
 "nbformat_minor": 0
}
