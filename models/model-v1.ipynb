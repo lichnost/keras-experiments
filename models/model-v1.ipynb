{
 "cells": [
  {
   "cell_type": "code",
   "execution_count": 15,
   "metadata": {
    "collapsed": true
   },
   "outputs": [
    {
     "name": "stdout",
     "output_type": "stream",
     "text": [
      "_________________________________________________________________\nLayer (type)                 Output Shape              Param #   \n=================================================================\ndense_9 (Dense)              (None, 30, 30, 10)        20        \n_________________________________________________________________\nflatten_4 (Flatten)          (None, 9000)              0         \n_________________________________________________________________\ndense_10 (Dense)             (None, 10)                90010     \n_________________________________________________________________\ndense_11 (Dense)             (None, 60)                660       \n=================================================================\nTotal params: 90,690\nTrainable params: 90,690\nNon-trainable params: 0\n_________________________________________________________________\n"
     ]
    }
   ],
   "source": [
    "# Install the plaidml backend\n",
    "import plaidml.keras\n",
    "plaidml.keras.install_backend()\n",
    "\n",
    "from keras.models import Sequential\n",
    "from keras.layers import Dense, Flatten, Convolution2D, MaxPooling2D, Dropout\n",
    "\n",
    "from keras.optimizers import SGD\n",
    "from keras.models import  load_model\n",
    "from os.path import isfile\n",
    "\n",
    "model_file = \"./models/serialized/model-v1.hdf5\"\n",
    "\n",
    "# Model\n",
    "if isfile(model_file):\n",
    "    model = load_model(model_file)\n",
    "else:\n",
    "    model = Sequential()\n",
    "    model.add(Dense(10, input_shape=(30 ,30, 1), activation='relu'))\n",
    "    model.add(Flatten())\n",
    "    model.add(Dense(10, activation='relu'))\n",
    "    model.add(Dense(60, activation='relu'))\n",
    "    model.compile(optimizer=SGD(lr=0.01), loss='mean_squared_error', metrics=['accuracy'])\n",
    "    model.save(model_file)\n",
    "\n",
    "model.summary()\n",
    "\n"
   ]
  },
  {
   "cell_type": "code",
   "execution_count": null,
   "metadata": {},
   "outputs": [],
   "source": []
  }
 ],
 "metadata": {
  "kernelspec": {
   "display_name": "Python 2",
   "language": "python",
   "name": "python2"
  },
  "language_info": {
   "codemirror_mode": {
    "name": "ipython",
    "version": 2
   },
   "file_extension": ".py",
   "mimetype": "text/x-python",
   "name": "python",
   "nbconvert_exporter": "python",
   "pygments_lexer": "ipython2",
   "version": "2.7.6"
  }
 },
 "nbformat": 4,
 "nbformat_minor": 0
}
